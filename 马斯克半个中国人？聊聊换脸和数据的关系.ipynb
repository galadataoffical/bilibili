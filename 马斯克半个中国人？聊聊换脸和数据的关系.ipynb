{
 "cells": [
  {
   "cell_type": "code",
   "execution_count": null,
   "id": "7c5565fd",
   "metadata": {},
   "outputs": [],
   "source": [
    "from PIL import Image\n",
    "from IPython.display import display\n",
    "import numpy as np"
   ]
  },
  {
   "cell_type": "code",
   "execution_count": null,
   "id": "c2a99a30",
   "metadata": {},
   "outputs": [],
   "source": [
    "x = Image.open(\"...\") #图像路径，注意I大写"
   ]
  },
  {
   "cell_type": "code",
   "execution_count": null,
   "id": "a6351f19",
   "metadata": {},
   "outputs": [],
   "source": [
    "display(x)"
   ]
  },
  {
   "cell_type": "code",
   "execution_count": null,
   "id": "b81ca1e5",
   "metadata": {},
   "outputs": [],
   "source": [
    "A = np.array(x)"
   ]
  },
  {
   "cell_type": "code",
   "execution_count": null,
   "id": "77fcf790",
   "metadata": {},
   "outputs": [],
   "source": [
    "A"
   ]
  },
  {
   "cell_type": "code",
   "execution_count": null,
   "id": "29689877",
   "metadata": {},
   "outputs": [],
   "source": [
    "B = np.full(A.shape,255)-A"
   ]
  },
  {
   "cell_type": "code",
   "execution_count": null,
   "id": "9682d8ac",
   "metadata": {},
   "outputs": [],
   "source": [
    "B"
   ]
  },
  {
   "cell_type": "code",
   "execution_count": null,
   "id": "4a068458",
   "metadata": {},
   "outputs": [],
   "source": [
    "B = B.astype(np.uint8)"
   ]
  },
  {
   "cell_type": "code",
   "execution_count": null,
   "id": "783f413b",
   "metadata": {},
   "outputs": [],
   "source": [
    "display(Image.fromarray(B))"
   ]
  }
 ],
 "metadata": {
  "kernelspec": {
   "display_name": "Python 3",
   "language": "python",
   "name": "python3"
  },
  "language_info": {
   "codemirror_mode": {
    "name": "ipython",
    "version": 3
   },
   "file_extension": ".py",
   "mimetype": "text/x-python",
   "name": "python",
   "nbconvert_exporter": "python",
   "pygments_lexer": "ipython3",
   "version": "3.8.8"
  }
 },
 "nbformat": 4,
 "nbformat_minor": 5
}
